{
  "nbformat": 4,
  "nbformat_minor": 0,
  "metadata": {
    "colab": {
      "provenance": [],
      "include_colab_link": true
    },
    "kernelspec": {
      "name": "python3",
      "display_name": "Python 3"
    }
  },
  "cells": [
    {
      "cell_type": "markdown",
      "metadata": {
        "id": "view-in-github",
        "colab_type": "text"
      },
      "source": [
        "<a href=\"https://colab.research.google.com/github/rohanmad/machine-learning-exercises/blob/main/PolynomialRegression_Project.ipynb\" target=\"_parent\"><img src=\"https://colab.research.google.com/assets/colab-badge.svg\" alt=\"Open In Colab\"/></a>"
      ]
    },
    {
      "cell_type": "markdown",
      "metadata": {
        "id": "9MMoEomXh5BU"
      },
      "source": [
        "**Copyright: © NexStream Technical Institute, LLC**.  \n",
        "All rights reserved"
      ]
    },
    {
      "cell_type": "markdown",
      "metadata": {
        "id": "Sv_MfXGUQsy5"
      },
      "source": [
        "#Polynomial Linear Regression\n",
        "\n",
        "In this project, you will perform a calculation of the coefficients used in a polynomial linear regression model for a given dataset.\n",
        "Please reference the video lectures on Polynomial Linear Regression for a description of the algorithm and the main functions you will need in the implementation.\n",
        "Please complete the following steps in your Colab Script.  The reference script below provides template code and hints to help with each step.  You will be turning in code and screenshots of your console output in an accompanying assignment.\n",
        "\n",
        "- **Step 1**:  Upload the dataset file weatherDataP.csv file to your Google Drive.\n",
        "Mount your drive and change to the folder.   \n",
        "Note if get ERROR:root:Internal Python error in the inspect module error when trying to mount drive, restart runtime\n",
        "- **Step 2**:   Create a Pandas table called 'weather' and read the dataset (weatherDataP.csv).  \n",
        "Print out the first several rows.  \n",
        "Hint: https://pandas.pydata.org/pandas-docs/stable/reference/api/pandas.read_csv.html  \n",
        "Hint: https://pandas.pydata.org/pandas-docs/stable/reference/api/pandas.DataFrame.head.html   \n",
        "Hint: https://pandas.pydata.org/docs/reference/api/pandas.DataFrame.describe.html  \n",
        "\n",
        "- **Step 3**:  Read in the data feature independent variables (X), and the dependent variable Humidity (y) from your Pandas 'weather' table.  \n",
        "- **Step 4**:  Examine the data (Humidity vs. Pressure) with Matplotlib. You will need to upload a screenshot of the plot in the accompanying assignment.\n",
        "- **Step 5**:\n",
        " Create a function *def polyRegression(n):* that generates a polynomial regression model for the input dataset.   \n",
        "Your function must input the degree of the fit function (n)  \n",
        "Your function must return a tuple of the following outputs IN THIS ORDER:  \n",
        "polynomial coefficients,  \n",
        "polynomial intercept,  \n",
        "r-squared score between y (dependent var from the dataset) and y_hat,\n",
        "predicted output (y_hat)  \n",
        "Note, y is your dependent variable from the dataset and y_hat is the predicted output.  \n",
        "Note, make sure you return the coeffs, intercept, r-squared score, y_hat in this order!   \n",
        "Record your polynomial equation for each of the degrees.  You will be required to  upload your equation in the accompanying assignment.  \n",
        "Hint:  https://scikit-learn.org/stable/modules/generated/sklearn.preprocessing.PolynomialFeatures.html  \n",
        "Hint:  https://scikit-learn.org/stable/modules/generated/sklearn.preprocessing.StandardScaler.html#sklearn.preprocessing.StandardScaler.fit_transform  \n",
        "Hint:  https://scikit-learn.org/stable/modules/generated/sklearn.preprocessing.StandardScaler.html#sklearn.preprocessing.StandardScaler.fit  \n",
        "Hint:  https://scikit-learn.org/stable/modules/generated/sklearn.linear_model.LinearRegression.html#sklearn.linear_model.LinearRegression.predict  \n",
        "Hint:  https://scikit-learn.org/stable/modules/generated/sklearn.metrics.r2_score.html  \n",
        "- **Step 6**:  Call your function from Step 4 for the degrees 1,2,3,4 and print out your results (coeffs, intercept, r2 score).  \n",
        "Create a plot of the input dataset and the prediction line for each of the degrees (4 plots).  \n",
        "Take a screenshot of your results and plots, you will upload them in the accompanying assignment.\n",
        "- **Step 7**: Run the embedded doctest module.  \n",
        "Record the output to confirm all your tests passed."
      ]
    },
    {
      "cell_type": "code",
      "metadata": {
        "id": "9s4BVJBx3OF5",
        "colab": {
          "base_uri": "https://localhost:8080/"
        },
        "outputId": "27e85f51-16a5-4205-b8d6-c0942c76ed01"
      },
      "source": [
        "#Step 1\n",
        "#Upload the dataset file weatherDataP.csv file to your Google Drive.\n",
        "#Mount your drive and change to the folder.\n",
        "#Note if get ERROR:root:Internal Python error in the inspect module error when trying to mount drive, restart runtime\n",
        "\n",
        "# Mount drive\n",
        "from google.colab import drive\n",
        "drive.mount('/content/drive/', force_remount=True)\n",
        "# cd (change directory) to the folder which contains the dataset\n",
        "# YOUR CODE HERE...\n",
        "!cp drive/My\\ Drive/Colab\\ Notebooks/'WeatherDataP.csv' ."
      ],
      "execution_count": null,
      "outputs": [
        {
          "output_type": "stream",
          "name": "stdout",
          "text": [
            "Mounted at /content/drive/\n"
          ]
        }
      ]
    },
    {
      "cell_type": "code",
      "metadata": {
        "id": "O14nu17D3iAf",
        "colab": {
          "base_uri": "https://localhost:8080/",
          "height": 1000
        },
        "outputId": "98680177-f223-44f6-bb6d-55d42a1729ab"
      },
      "source": [
        "#Note if get ERROR:root:Internal Python error in the inspect module error when trying to mount drive, restart runtime\n",
        "#If restarted runtime, then execute previous cell!!\n",
        "import pandas as pd\n",
        "from sklearn.preprocessing import PolynomialFeatures\n",
        "from sklearn.linear_model import LinearRegression\n",
        "from sklearn import preprocessing\n",
        "import matplotlib.pyplot as plt\n",
        "from sklearn.metrics import r2_score\n",
        "\n",
        "import numpy as np\n",
        "\n",
        "\n",
        "\n",
        "#Step 2\n",
        "#Create a Pandas table called 'weather' and read the dataset (weatherDataP.csv)\n",
        "#Print out the first several rows\n",
        "#Hint: https://pandas.pydata.org/pandas-docs/stable/reference/api/pandas.read_csv.html\n",
        "#Hint: https://pandas.pydata.org/pandas-docs/stable/reference/api/pandas.DataFrame.head.html\n",
        "#Hint: https://pandas.pydata.org/docs/reference/api/pandas.DataFrame.describe.html\n",
        "# YOUR CODE HERE...\n",
        "\n",
        "data = pd.read_csv(\"WeatherDataP.csv\")\n",
        "data = pd.DataFrame(data,columns=['Pressure (millibars)','Humidity'])\n",
        "print(data.head())\n",
        "\n",
        "#Step 3:  Read in the data feature independent variables (X), and the dependent variable Humidity (y)\n",
        "#         from your Pandas 'weather' table.\n",
        "# YOUR CODE HERE...\n",
        "\n",
        "X = data['Pressure (millibars)'].to_numpy()\n",
        "Y = data['Humidity'].to_numpy()\n",
        "\n",
        "#Step 4:  Examine the data (Humidity vs. Pressure) with Matplotlib\n",
        "#         You will need to upload a screenshot of the plot in the accompanying assignment.\n",
        "# YOUR CODE HERE...\n",
        "\n",
        "plt.scatter(X,Y)\n",
        "\n",
        "#Step 5:  Create a function that generates a polynomial regression model for the input dataset.\n",
        "#         Your function must input the degree of the fit function (n)\n",
        "#         Your function must return a tuple of the following outputs IN THIS ORDER:\n",
        "#             polynomial coefficients,\n",
        "#             polynomial intercept,\n",
        "#             r-squared score between y (dependent var from the dataset) and y_hat,\n",
        "#             predicted output (y_hat),\n",
        "#             Note, y is your dependent variable from the dataset and y_hat is the predicted output.\n",
        "#         Note, make sure you return the coeffs, intercept, r-squared score, y_hat in this order!\n",
        "#         Record your polynomial equation for each of the degrees.  You will be required to\n",
        "#             upload your equation in the accompanying assignment.\n",
        "#         Hint:  https://scikit-learn.org/stable/modules/generated/sklearn.preprocessing.PolynomialFeatures.html\n",
        "#         Hint:  https://scikit-learn.org/stable/modules/generated/sklearn.preprocessing.StandardScaler.html#sklearn.preprocessing.StandardScaler.fit_transform\n",
        "#         Hint:  https://scikit-learn.org/stable/modules/generated/sklearn.preprocessing.StandardScaler.html#sklearn.preprocessing.StandardScaler.fit\n",
        "#         Hint:  https://scikit-learn.org/stable/modules/generated/sklearn.linear_model.LinearRegression.html#sklearn.linear_model.LinearRegression.predict\n",
        "#         Hint:  https://scikit-learn.org/stable/modules/generated/sklearn.metrics.r2_score.html\n",
        "def polyRegression(n):\n",
        "# YOUR CODE HERE...\n",
        "  regr = LinearRegression()\n",
        "  x_train = X\n",
        "  poly = PolynomialFeatures(degree=n)\n",
        "  x_train_poly = poly.fit_transform(x_train.T.reshape(-1,1))\n",
        "\n",
        "  regr.fit(x_train_poly,Y)\n",
        "  yhat = regr.predict(x_train_poly)\n",
        "  return (regr.coef_, regr.intercept_, r2_score(Y, yhat),yhat)\n",
        "\n",
        "#Step 6:  Call your function from Step 4 for the degrees 1,2,3,4 and print out your results (coeffs, intercept, r2 score).\n",
        "#         Also create a plot of the input dataset and the prediction line for each of the degrees (4 plots)\n",
        "#         Take a screenshot of your results and plots, you will upload them in the accompanying assignment.\n",
        "# YOUR CODE HERE...\n",
        "\n",
        "fig,axs = plt.subplots(1,4)\n",
        "[ax.scatter(X,Y) for ax in axs]\n",
        "print('Coefficients:', polyRegression(1)[0])\n",
        "axs[0].plot(X, polyRegression(1)[3])\n",
        "print('Coefficients:', polyRegression(2)[0])\n",
        "axs[0].plot(X, polyRegression(2)[3])\n",
        "print('Coefficients:', polyRegression(3)[0])\n",
        "axs[0].plot(X, polyRegression(3)[3])\n",
        "print('Coefficients:', polyRegression(4)[0])\n",
        "axs[0].plot(X, polyRegression(4)[3])\n",
        "#Step 7:  Run the following doctest module.\n",
        "#         Note, do not modify any of the code below this line.\n",
        "#         Record the output to confirm all your tests passed.\n",
        "import doctest\n",
        "polyRegDegree2 = polyRegression(2)\n",
        "polyRegDegree3 = polyRegression(3)\n",
        "\"\"\"\n",
        "  >>> print('Degree 2 Coeffs:', polyRegDegree2[0])\n",
        "  Degree 2 Coeffs: [[ 0.00000000e+00 -5.77225454e+01  2.85583573e-02]]\n",
        "  >>> print('Degree 2 Intercept:', polyRegDegree2[1])\n",
        "  Degree 2 Intercept: [29167.74604361]\n",
        "  >>> print('Degree 2 Score:', polyRegDegree2[2])\n",
        "  Degree 2 Score: 0.8616233381649783\n",
        "  >>> print('Degree 3 Coeffs:', polyRegDegree3[0])\n",
        "  Degree 3 Coeffs: [[ 0.00000000e+00  8.12324588e+03 -8.06389419e+00  2.66828921e-03]]\n",
        "  >>> print('Degree 3 Intercept:', polyRegDegree3[1])\n",
        "  Degree 3 Intercept: [-2727640.53926199]\n",
        "  >>> print('Degree 3 Score:', polyRegDegree3[2])\n",
        "  Degree 3 Score: 0.8777508325098228\n",
        "\"\"\"\n",
        "\n",
        "doctest.testmod()\n"
      ],
      "execution_count": null,
      "outputs": [
        {
          "output_type": "stream",
          "name": "stdout",
          "text": [
            "   Pressure (millibars)  Humidity\n",
            "0               1014.40      0.62\n",
            "1               1014.20      0.66\n",
            "2               1014.47      0.79\n",
            "3               1014.45      0.82\n",
            "4               1014.49      0.83\n",
            "Coefficients: [0.         0.03057561]\n",
            "Coefficients: [ 0.00000000e+00 -5.77225454e+01  2.85583573e-02]\n",
            "Coefficients: [ 0.00000000e+00  8.12324588e+03 -8.06389419e+00  2.66828921e-03]\n",
            "Coefficients: [ 0.00000000e+00  5.87846794e-03  3.99351567e+00 -5.28588734e-03\n",
            "  1.96773530e-06]\n",
            "**********************************************************************\n",
            "File \"__main__\", line 3, in __main__\n",
            "Failed example:\n",
            "    print('Degree 2 Coeffs:', polyRegDegree2[0])\n",
            "Expected:\n",
            "    Degree 2 Coeffs: [[ 0.00000000e+00 -5.77225454e+01  2.85583573e-02]]\n",
            "Got:\n",
            "    Degree 2 Coeffs: [ 0.00000000e+00 -5.77225454e+01  2.85583573e-02]\n",
            "**********************************************************************\n",
            "File \"__main__\", line 5, in __main__\n",
            "Failed example:\n",
            "    print('Degree 2 Intercept:', polyRegDegree2[1])\n",
            "Expected:\n",
            "    Degree 2 Intercept: [29167.74604361]\n",
            "Got:\n",
            "    Degree 2 Intercept: 29167.74604360524\n",
            "**********************************************************************\n",
            "File \"__main__\", line 9, in __main__\n",
            "Failed example:\n",
            "    print('Degree 3 Coeffs:', polyRegDegree3[0])\n",
            "Expected:\n",
            "    Degree 3 Coeffs: [[ 0.00000000e+00  8.12324588e+03 -8.06389419e+00  2.66828921e-03]]\n",
            "Got:\n",
            "    Degree 3 Coeffs: [ 0.00000000e+00  8.12324588e+03 -8.06389419e+00  2.66828921e-03]\n",
            "**********************************************************************\n",
            "File \"__main__\", line 11, in __main__\n",
            "Failed example:\n",
            "    print('Degree 3 Intercept:', polyRegDegree3[1])\n",
            "Expected:\n",
            "    Degree 3 Intercept: [-2727640.53926199]\n",
            "Got:\n",
            "    Degree 3 Intercept: -2727640.53926199\n",
            "**********************************************************************\n",
            "1 items had failures:\n",
            "   4 of   6 in __main__\n",
            "***Test Failed*** 4 failures.\n"
          ]
        },
        {
          "output_type": "execute_result",
          "data": {
            "text/plain": [
              "TestResults(failed=4, attempted=6)"
            ]
          },
          "metadata": {},
          "execution_count": 5
        },
        {
          "output_type": "display_data",
          "data": {
            "text/plain": [
              "<Figure size 432x288 with 1 Axes>"
            ],
            "image/png": "[encoded data removed]"
          },
          "metadata": {
            "needs_background": "light"
          }
        },
        {
          "output_type": "display_data",
          "data": {
            "text/plain": [
              "<Figure size 432x288 with 4 Axes>"
            ],
            "image/png": "[encoded data removed]"
          },
          "metadata": {
            "needs_background": "light"
          }
        }
      ]
    }
  ]
}